{
 "cells": [
  {
   "cell_type": "markdown",
   "metadata": {
    "id": "DMhZdTNzloy4"
   },
   "source": [
    "Imports"
   ]
  },
  {
   "cell_type": "code",
   "execution_count": 51,
   "metadata": {
    "executionInfo": {
     "elapsed": 8,
     "status": "ok",
     "timestamp": 1747538012949,
     "user": {
      "displayName": "Magomed Radzhabov",
      "userId": "07943459021730227275"
     },
     "user_tz": -180
    },
    "id": "QjmmM8LjkiTU"
   },
   "outputs": [],
   "source": [
    "! pip install category_encoders\n",
    "! pip install xgboost lightgbm catboost"
   ]
  },
  {
   "cell_type": "code",
   "execution_count": 3,
   "metadata": {
    "executionInfo": {
     "elapsed": 12272,
     "status": "ok",
     "timestamp": 1747536103075,
     "user": {
      "displayName": "Magomed Radzhabov",
      "userId": "07943459021730227275"
     },
     "user_tz": -180
    },
    "id": "ElzVXp6cQQOY"
   },
   "outputs": [],
   "source": [
    "import pandas as pd\n",
    "import numpy as np\n",
    "import matplotlib.pyplot as plt\n",
    "\n",
    "from sklearn.impute import SimpleImputer\n",
    "from category_encoders import CountEncoder\n",
    "from collections import Counter\n",
    "\n",
    "from sklearn.tree import DecisionTreeClassifier, DecisionTreeRegressor\n",
    "from sklearn.metrics import accuracy_score, recall_score, precision_score, roc_auc_score\n",
    "from sklearn.metrics import mean_absolute_error, mean_squared_error, r2_score\n",
    "\n",
    "from sklearn.ensemble import RandomForestClassifier\n",
    "\n",
    "import time\n",
    "\n",
    "import xgboost as xgb\n",
    "import lightgbm as lgb\n",
    "from catboost import CatBoostClassifier"
   ]
  },
  {
   "cell_type": "markdown",
   "metadata": {
    "id": "_Ys8ulZpluF2"
   },
   "source": [
    "Reading the data"
   ]
  },
  {
   "cell_type": "code",
   "execution_count": 4,
   "metadata": {
    "executionInfo": {
     "elapsed": 2027,
     "status": "ok",
     "timestamp": 1747536105106,
     "user": {
      "displayName": "Magomed Radzhabov",
      "userId": "07943459021730227275"
     },
     "user_tz": -180
    },
    "id": "hA7niM12MvAz"
   },
   "outputs": [],
   "source": [
    "train_df = pd.read_csv('./drive/MyDrive/data/training.csv', parse_dates=['PurchDate'])\n",
    "train_df = train_df.sort_values(by=['PurchDate'])"
   ]
  },
  {
   "cell_type": "code",
   "execution_count": 5,
   "metadata": {
    "executionInfo": {
     "elapsed": 1303,
     "status": "ok",
     "timestamp": 1747536106406,
     "user": {
      "displayName": "Magomed Radzhabov",
      "userId": "07943459021730227275"
     },
     "user_tz": -180
    },
    "id": "y9eI5xVQLjsY"
   },
   "outputs": [],
   "source": [
    "test_df = pd.read_csv('./drive/MyDrive/data/test.csv', parse_dates=['PurchDate'])\n",
    "test_df = test_df.sort_values(by=['PurchDate'])"
   ]
  },
  {
   "cell_type": "markdown",
   "metadata": {
    "id": "8W6dSLb1jeed"
   },
   "source": [
    "Filling the missing values"
   ]
  },
  {
   "cell_type": "code",
   "execution_count": 7,
   "metadata": {
    "executionInfo": {
     "elapsed": 9,
     "status": "ok",
     "timestamp": 1747536106423,
     "user": {
      "displayName": "Magomed Radzhabov",
      "userId": "07943459021730227275"
     },
     "user_tz": -180
    },
    "id": "fB7DYvYqig6X"
   },
   "outputs": [],
   "source": [
    "# train_df.isna().sum()"
   ]
  },
  {
   "cell_type": "code",
   "execution_count": 8,
   "metadata": {
    "executionInfo": {
     "elapsed": 790,
     "status": "ok",
     "timestamp": 1747536107216,
     "user": {
      "displayName": "Magomed Radzhabov",
      "userId": "07943459021730227275"
     },
     "user_tz": -180
    },
    "id": "zky5cnvhgGYI"
   },
   "outputs": [],
   "source": [
    "train_df.drop(columns=['PurchDate'], inplace=True)\n",
    "\n",
    "cat_cols = train_df.select_dtypes(include=['object']).columns.to_list()\n",
    "num_cols = train_df.select_dtypes(include=['float64', 'int64']).columns.to_list()\n",
    "\n",
    "cat_imputer = SimpleImputer(strategy='most_frequent')\n",
    "num_imputer = SimpleImputer(strategy='median')\n",
    "\n",
    "train_df[cat_cols] = cat_imputer.fit_transform(train_df[cat_cols])\n",
    "train_df[num_cols] = num_imputer.fit_transform(train_df[num_cols])"
   ]
  },
  {
   "cell_type": "code",
   "execution_count": 9,
   "metadata": {
    "executionInfo": {
     "elapsed": 9,
     "status": "ok",
     "timestamp": 1747536107229,
     "user": {
      "displayName": "Magomed Radzhabov",
      "userId": "07943459021730227275"
     },
     "user_tz": -180
    },
    "id": "H61m2RY0j2wt"
   },
   "outputs": [],
   "source": [
    "# train_df.isna().sum()"
   ]
  },
  {
   "cell_type": "markdown",
   "metadata": {
    "id": "a4AwwLjhNMs2"
   },
   "source": [
    "Splitting"
   ]
  },
  {
   "cell_type": "code",
   "execution_count": 10,
   "metadata": {
    "colab": {
     "base_uri": "https://localhost:8080/"
    },
    "executionInfo": {
     "elapsed": 12,
     "status": "ok",
     "timestamp": 1747536107243,
     "user": {
      "displayName": "Magomed Radzhabov",
      "userId": "07943459021730227275"
     },
     "user_tz": -180
    },
    "id": "sjI7rCwyNYwX",
    "outputId": "819e683e-4c04-4121-9af9-a5d3231dd95d"
   },
   "outputs": [
    {
     "name": "stdout",
     "output_type": "stream",
     "text": [
      "train: (24327, 33)\n",
      "valid: (24327, 33)\n",
      "test: (24329, 33)\n"
     ]
    }
   ],
   "source": [
    "n_samples = len(train_df)\n",
    "split_index = n_samples // 3\n",
    "\n",
    "train = train_df.iloc[:split_index]\n",
    "valid = train_df.iloc[split_index:2*split_index]\n",
    "test = train_df.iloc[2*split_index:]\n",
    "\n",
    "print(f'train: {train.shape}')\n",
    "print(f'valid: {valid.shape}')\n",
    "print(f'test: {test.shape}')"
   ]
  },
  {
   "cell_type": "markdown",
   "metadata": {
    "id": "5SKMMQ1IPXvT"
   },
   "source": [
    "Encoding"
   ]
  },
  {
   "cell_type": "code",
   "execution_count": 11,
   "metadata": {
    "executionInfo": {
     "elapsed": 1821,
     "status": "ok",
     "timestamp": 1747536109067,
     "user": {
      "displayName": "Magomed Radzhabov",
      "userId": "07943459021730227275"
     },
     "user_tz": -180
    },
    "id": "DuHs9KBcPZKH"
   },
   "outputs": [],
   "source": [
    "cat_cols = train.select_dtypes(include=['object']).columns.to_list()\n",
    "\n",
    "count_encoder = CountEncoder()\n",
    "count_encoder.fit(train[cat_cols])\n",
    "\n",
    "train.loc[:, cat_cols] = count_encoder.transform(train[cat_cols])\n",
    "valid.loc[:, cat_cols] = count_encoder.transform(valid[cat_cols])\n",
    "test.loc[:, cat_cols] = count_encoder.transform(test[cat_cols])"
   ]
  },
  {
   "cell_type": "markdown",
   "metadata": {
    "id": "UtuIB_N8Z_My"
   },
   "source": [
    "---"
   ]
  },
  {
   "cell_type": "markdown",
   "metadata": {
    "id": "sJrZ2xPlkQPF"
   },
   "source": [
    "Subsets"
   ]
  },
  {
   "cell_type": "code",
   "execution_count": 12,
   "metadata": {
    "executionInfo": {
     "elapsed": 74,
     "status": "ok",
     "timestamp": 1747536109140,
     "user": {
      "displayName": "Magomed Radzhabov",
      "userId": "07943459021730227275"
     },
     "user_tz": -180
    },
    "id": "x7bznA6MZ5Nh"
   },
   "outputs": [],
   "source": [
    "X_train = train.drop(columns=['IsBadBuy'])\n",
    "y_train = train['IsBadBuy']\n",
    "\n",
    "X_valid = valid.drop(columns=['IsBadBuy'])\n",
    "y_valid = valid['IsBadBuy']\n",
    "\n",
    "X_test = test.drop(columns=['IsBadBuy'])\n",
    "y_test = test['IsBadBuy']"
   ]
  },
  {
   "cell_type": "markdown",
   "metadata": {
    "id": "KOcS40o1bZzu"
   },
   "source": [
    "---"
   ]
  },
  {
   "cell_type": "markdown",
   "metadata": {
    "id": "MZaDEdZ1oJTJ"
   },
   "source": [
    "Custom CART Implementation"
   ]
  },
  {
   "cell_type": "code",
   "execution_count": 13,
   "metadata": {
    "executionInfo": {
     "elapsed": 3,
     "status": "ok",
     "timestamp": 1747536109143,
     "user": {
      "displayName": "Magomed Radzhabov",
      "userId": "07943459021730227275"
     },
     "user_tz": -180
    },
    "id": "maF9il4Rctof"
   },
   "outputs": [],
   "source": [
    "class Node:\n",
    "    def __init__(self, depth=0, max_depth=None):\n",
    "      self.depth = depth\n",
    "      self.max_depth = max_depth\n",
    "      self.feature_idx = None\n",
    "      self.threshold = None\n",
    "      self.left = None\n",
    "      self.right = None\n",
    "      self.prediction = None\n",
    "      self.probs = None\n",
    "      self.rng = np.random.default_rng(42)\n",
    "\n",
    "    def is_leaf(self):\n",
    "      return self.left is None and self.right is None\n",
    "\n",
    "    def gini_impurity(self, y):\n",
    "        if len(y) == 0:\n",
    "            return 0\n",
    "        probs = np.bincount(y.astype(int)) / len(y)\n",
    "        return 1.0 - np.sum(probs ** 2)\n",
    "\n",
    "    def std(self, y):\n",
    "      return np.std(y) if len(y) > 0 else 0\n",
    "\n",
    "    def best_split(self, X, y, criterion='gini'):\n",
    "      n_features = X.shape[1]\n",
    "      best_idx, best_thr, best_score = None, None, float('inf')\n",
    "\n",
    "      for feature_idx in range(n_features):\n",
    "        feature_values = X[:, feature_idx]\n",
    "        thresholds = np.unique(feature_values)\n",
    "\n",
    "        for threshold in thresholds:\n",
    "          left_mask = feature_values <= threshold\n",
    "          right_mask = ~left_mask\n",
    "\n",
    "          if np.sum(left_mask) == 0 or np.sum(right_mask) == 0:\n",
    "            continue\n",
    "\n",
    "          y_left, y_right = y[left_mask], y[right_mask]\n",
    "\n",
    "          if criterion == 'gini':\n",
    "            score = (len(y_left) * self.gini_impurity(y_left) +\n",
    "                     len(y_right) * self.gini_impurity(y_right)) / len(y)\n",
    "          elif criterion == 'std':\n",
    "            score = (len(y_left) * self.std(y_left) +\n",
    "                     len(y_right) * self.std(y_right)) / len(y)\n",
    "          else:\n",
    "            raise ValueError(\"Unknown criterion\")\n",
    "\n",
    "          if score < best_score:\n",
    "            best_idx, best_thr, best_score = feature_idx, threshold, score\n",
    "\n",
    "      return best_idx, best_thr\n",
    "\n",
    "    def extra_random_split(self, X, y, criterion='gini', max_features=None):\n",
    "      n_features = X.shape[1]\n",
    "      best_idx, best_thr, best_score = None, None, float('inf')\n",
    "\n",
    "      if max_features == 'sqrt':\n",
    "        k = int(np.sqrt(n_features))\n",
    "      elif max_features == 'log2':\n",
    "        k = int(np.log2(n_features))\n",
    "      elif isinstance(max_features, int):\n",
    "        k = max_features\n",
    "      else:\n",
    "        k = n_features\n",
    "\n",
    "      features = self.rng.choice(n_features, k, replace=False)\n",
    "\n",
    "      for feature_idx in features:\n",
    "        feature_values = X[:, feature_idx]\n",
    "        all_thresholds = np.unique(feature_values)\n",
    "        thresholds = self.rng.choice(all_thresholds, size=min(5, len(all_thresholds)), replace=False)\n",
    "\n",
    "        for threshold in thresholds:\n",
    "          left_mask = feature_values <= threshold\n",
    "          right_mask = ~left_mask\n",
    "\n",
    "          if np.sum(left_mask) == 0 or np.sum(right_mask) == 0:\n",
    "            continue\n",
    "\n",
    "          y_left, y_right = y[left_mask], y[right_mask]\n",
    "\n",
    "          if criterion == 'gini':\n",
    "            score = (len(y_left) * self.gini_impurity(y_left) +\n",
    "                     len(y_right) * self.gini_impurity(y_right)) / len(y)\n",
    "          elif criterion == 'std':\n",
    "            score = (len(y_left) * self.std(y_left) +\n",
    "                     len(y_right) * self.std(y_right)) / len(y)\n",
    "          else:\n",
    "            raise ValueError('Unknown criterion!')\n",
    "\n",
    "          if score < best_score:\n",
    "            best_idx, best_thr, best_score = feature_idx, threshold, score\n",
    "\n",
    "      return best_idx, best_thr"
   ]
  },
  {
   "cell_type": "markdown",
   "metadata": {
    "id": "GPaod9j46NV2"
   },
   "source": [
    "---"
   ]
  },
  {
   "cell_type": "code",
   "execution_count": 14,
   "metadata": {
    "executionInfo": {
     "elapsed": 11,
     "status": "ok",
     "timestamp": 1747536109156,
     "user": {
      "displayName": "Magomed Radzhabov",
      "userId": "07943459021730227275"
     },
     "user_tz": -180
    },
    "id": "shEND-xtzLO0"
   },
   "outputs": [],
   "source": [
    "def gini_score(y_true, y_probs):\n",
    "    auc = roc_auc_score(y_true, y_probs)\n",
    "    return 2 * auc - 1"
   ]
  },
  {
   "cell_type": "code",
   "execution_count": 15,
   "metadata": {
    "executionInfo": {
     "elapsed": 23,
     "status": "ok",
     "timestamp": 1747536109181,
     "user": {
      "displayName": "Magomed Radzhabov",
      "userId": "07943459021730227275"
     },
     "user_tz": -180
    },
    "id": "fxHZCvsWbaRd"
   },
   "outputs": [],
   "source": [
    "class DecisionTreeClassifierCustom:\n",
    "    def __init__(self, max_depth=5, criterion='gini', extra_random=False, max_features=None):\n",
    "        self.root = None\n",
    "        self.max_depth = max_depth\n",
    "        self.criterion = criterion\n",
    "        self.extra_random = extra_random\n",
    "        self.max_features = max_features\n",
    "\n",
    "    def fit(self, X, y):\n",
    "        if hasattr(X, 'values'):\n",
    "            X = X.values\n",
    "        if hasattr(y, 'values'):\n",
    "          y = y.values\n",
    "        y = y.astype(int)\n",
    "        self.n_classes = int(np.max(y)) + 1\n",
    "        self.root = self._grow_tree(X, y, depth=0)\n",
    "\n",
    "    def _grow_tree(self, X, y, depth):\n",
    "        node = Node(depth, self.max_depth)\n",
    "\n",
    "        if len(set(y)) == 1 or depth >= self.max_depth:\n",
    "          counts = np.bincount(y, minlength=self.n_classes)\n",
    "          node.prediction = counts.argmax()\n",
    "          node.probs = counts / counts.sum()\n",
    "          return node\n",
    "\n",
    "        if self.extra_random:\n",
    "            feature_idx, threshold = node.extra_random_split(X, y, self.criterion, self.max_features)\n",
    "        else:\n",
    "            feature_idx, threshold = node.best_split(X, y)\n",
    "\n",
    "        if feature_idx is None:\n",
    "          counts = np.bincount(y, minlength=self.n_classes)\n",
    "          node.prediction = counts.argmax()\n",
    "          node.probs = counts / counts.sum()\n",
    "          return node\n",
    "\n",
    "        node.feature_idx = feature_idx\n",
    "        node.threshold = threshold\n",
    "\n",
    "        feature_values = X[:, feature_idx]\n",
    "        left_mask = feature_values <= threshold\n",
    "        right_mask = ~left_mask\n",
    "\n",
    "        node.left = self._grow_tree(X[left_mask], y[left_mask], depth + 1)\n",
    "        node.right = self._grow_tree(X[right_mask], y[right_mask], depth + 1)\n",
    "\n",
    "        return node\n",
    "\n",
    "    def predict(self, X):\n",
    "        if hasattr(X, 'values'):\n",
    "            X = X.values\n",
    "        return np.array([self._predict_one(x) for x in X])\n",
    "\n",
    "    def predict_proba(self, X):\n",
    "      if hasattr(X, 'values'):\n",
    "        X = X.values\n",
    "      return np.array([self._predict_proba_one(x) for x in X])\n",
    "\n",
    "    def _predict_one(self, x):\n",
    "      node = self.root\n",
    "      while not node.is_leaf():\n",
    "        if x[node.feature_idx] <= node.threshold:\n",
    "          node = node.left\n",
    "        else:\n",
    "          node = node.right\n",
    "      return node.prediction\n",
    "\n",
    "    def _predict_proba_one(self, x):\n",
    "      node = self.root\n",
    "      while not node.is_leaf():\n",
    "        if x[node.feature_idx] <= node.threshold:\n",
    "          node = node.left\n",
    "        else:\n",
    "          node = node.right\n",
    "      return node.probs"
   ]
  },
  {
   "cell_type": "code",
   "execution_count": null,
   "metadata": {
    "colab": {
     "base_uri": "https://localhost:8080/"
    },
    "executionInfo": {
     "elapsed": 109758,
     "status": "ok",
     "timestamp": 1747533929624,
     "user": {
      "displayName": "Magomed Radzhabov",
      "userId": "07943459021730227275"
     },
     "user_tz": -180
    },
    "id": "VANBufYLVQLy",
    "outputId": "3563c896-5c16-43e9-8f73-30343c041d4a"
   },
   "outputs": [
    {
     "name": "stdout",
     "output_type": "stream",
     "text": [
      "Gini Score DecisionTreeClassifier (Custom): 0.2828\n"
     ]
    }
   ],
   "source": [
    "tree_clf_custom = DecisionTreeClassifierCustom(max_depth=5)\n",
    "tree_clf_custom.fit(X_train, y_train)\n",
    "y_probs = tree_clf_custom.predict_proba(X_valid)[:, 1]\n",
    "print(f\"Gini Score DecisionTreeClassifier (Custom): {gini_score(y_valid, y_probs):.4f}\")"
   ]
  },
  {
   "cell_type": "code",
   "execution_count": null,
   "metadata": {
    "colab": {
     "base_uri": "https://localhost:8080/"
    },
    "executionInfo": {
     "elapsed": 22008,
     "status": "ok",
     "timestamp": 1747534213005,
     "user": {
      "displayName": "Magomed Radzhabov",
      "userId": "07943459021730227275"
     },
     "user_tz": -180
    },
    "id": "91hlmHvZWMcw",
    "outputId": "2a98eb2e-ce7e-4205-90aa-fa999ee9cc78"
   },
   "outputs": [
    {
     "name": "stdout",
     "output_type": "stream",
     "text": [
      "Gini Score DecisionTreeClassifier (Custom): 0.2977\n"
     ]
    }
   ],
   "source": [
    "tree_clf_custom = DecisionTreeClassifierCustom(max_depth=7)\n",
    "tree_clf_custom.fit(X_train, y_train)\n",
    "y_probs = tree_clf_custom.predict_proba(X_valid)[:, 1]\n",
    "print(f\"Gini Score DecisionTreeClassifier (Custom): {gini_score(y_valid, y_probs):.4f}\")"
   ]
  },
  {
   "cell_type": "code",
   "execution_count": 27,
   "metadata": {
    "colab": {
     "base_uri": "https://localhost:8080/"
    },
    "executionInfo": {
     "elapsed": 1040,
     "status": "ok",
     "timestamp": 1747535398383,
     "user": {
      "displayName": "Magomed Radzhabov",
      "userId": "07943459021730227275"
     },
     "user_tz": -180
    },
    "id": "cGoJcMRx08JC",
    "outputId": "5d6e31a2-d90a-4f0b-e768-f548a63fb720"
   },
   "outputs": [
    {
     "name": "stdout",
     "output_type": "stream",
     "text": [
      "DecisionTreeClassifier Gini Score (Sklearn): 0.2928\n"
     ]
    }
   ],
   "source": [
    "tree_clf_sklearn = DecisionTreeClassifier(max_depth=6)\n",
    "tree_clf_sklearn.fit(X_train, y_train)\n",
    "y_probs = tree_clf_sklearn.predict_proba(X_valid)[:, 1]\n",
    "\n",
    "print(f\"DecisionTreeClassifier Gini Score (Sklearn): {gini_score(y_valid, y_probs):.4f}\")"
   ]
  },
  {
   "cell_type": "markdown",
   "metadata": {
    "id": "97ho6S7GXCj0"
   },
   "source": [
    "Sklearn DecisionTreeClassifier shows the same performance on the validation dataset\n",
    "\n",
    "Sklearn DecisionTreeClassifier advantages:\n",
    "1. Optimized Implementation. Sklearn uses Cython (C + Python) under the hood, making it highly optimized and significantly faster.\n",
    "2. Best Split Algorithms. Sklearn uses efficient, well-tested algorithms to find the best splits.\n",
    "3. Advanced Hyperparameter Support. Sklearn supports several regularization hyperparameters such as `min_samples_split`, `min_samples_leaf`, `max_leaf_nodes` hyperparameters. These help reduce overfitting and improve generalization."
   ]
  },
  {
   "cell_type": "code",
   "execution_count": 16,
   "metadata": {
    "executionInfo": {
     "elapsed": 10,
     "status": "ok",
     "timestamp": 1747536109193,
     "user": {
      "displayName": "Magomed Radzhabov",
      "userId": "07943459021730227275"
     },
     "user_tz": -180
    },
    "id": "RqnGn6GpbfkV"
   },
   "outputs": [],
   "source": [
    "class DecisionTreeRegressorCustom:\n",
    "    def __init__(self, max_depth=5, extra_random=False, max_features=None):\n",
    "        self.root = None\n",
    "        self.max_depth = max_depth\n",
    "        self.max_features = max_features\n",
    "        self.extra_random = extra_random\n",
    "\n",
    "    def fit(self, X, y):\n",
    "        if hasattr(X, 'values'):\n",
    "          X = X.values\n",
    "        if hasattr(y, 'values'):\n",
    "          y = y.values\n",
    "        self.root = self._grow_tree(X, y, depth=0)\n",
    "\n",
    "    def _grow_tree(self, X, y, depth):\n",
    "        node = Node(depth, self.max_depth)\n",
    "\n",
    "        if node.depth >= self.max_depth or len(set(y))== 1:\n",
    "            node.prediction = np.mean(y)\n",
    "            return node\n",
    "\n",
    "        if self.extra_random:\n",
    "            feature_idx, threshold = node.extra_random_split(X, y, 'std', self.max_features)\n",
    "        else:\n",
    "            feature_idx, threshold = node.best_split(X, y, criterion='std')\n",
    "\n",
    "        if feature_idx is None:\n",
    "          node.prediction = np.mean(y)\n",
    "          return node\n",
    "\n",
    "        node.feature_index = feature_idx\n",
    "        node.threshold = threshold\n",
    "\n",
    "        feature_values = X[:, feature_idx]\n",
    "        left_mask = feature_values <= threshold\n",
    "        right_mask = feature_values > threshold\n",
    "\n",
    "        node.left = self._grow_tree(X[left_mask], y[left_mask], depth + 1)\n",
    "        node.right = self._grow_tree(X[right_mask], y[right_mask], depth + 1)\n",
    "\n",
    "        return node\n",
    "\n",
    "    def predict(self, X):\n",
    "        if isinstance(X, pd.DataFrame):\n",
    "            X = X.values\n",
    "        return np.array([self._predict_one(x) for x in X])\n",
    "\n",
    "    def _predict_one(self, x):\n",
    "      node = self.root\n",
    "      while not node.is_leaf():\n",
    "        if x[node.feature_index] <= node.threshold:\n",
    "          node = node.left\n",
    "        else:\n",
    "          node = node.right\n",
    "      return node.prediction"
   ]
  },
  {
   "cell_type": "code",
   "execution_count": 17,
   "metadata": {
    "colab": {
     "base_uri": "https://localhost:8080/"
    },
    "executionInfo": {
     "elapsed": 383328,
     "status": "ok",
     "timestamp": 1747536492571,
     "user": {
      "displayName": "Magomed Radzhabov",
      "userId": "07943459021730227275"
     },
     "user_tz": -180
    },
    "id": "y1rmNX8C100P",
    "outputId": "71e1d172-e95a-4daa-e6e2-9893ab1edda8"
   },
   "outputs": [
    {
     "name": "stdout",
     "output_type": "stream",
     "text": [
      "DecisionTreeRegressor Custom:\n",
      "Mean Absolute Error: 0.1887\n",
      "Mean Squared Error: 0.1140\n",
      "R-squared: -0.0072\n"
     ]
    }
   ],
   "source": [
    "reg = DecisionTreeRegressorCustom(max_depth=7)\n",
    "reg.fit(X_train, y_train)\n",
    "preds = reg.predict(X_valid)\n",
    "\n",
    "print(f'DecisionTreeRegressor Custom:')\n",
    "print(f\"Mean Absolute Error: {mean_absolute_error(y_valid, preds):.4f}\")\n",
    "print(f\"Mean Squared Error: {mean_squared_error(y_valid, preds):.4f}\")\n",
    "print(f\"R-squared: {r2_score(y_valid, preds):.4f}\")"
   ]
  },
  {
   "cell_type": "code",
   "execution_count": 18,
   "metadata": {
    "colab": {
     "base_uri": "https://localhost:8080/"
    },
    "executionInfo": {
     "elapsed": 573,
     "status": "ok",
     "timestamp": 1747536493143,
     "user": {
      "displayName": "Magomed Radzhabov",
      "userId": "07943459021730227275"
     },
     "user_tz": -180
    },
    "id": "j75pmLLgif2x",
    "outputId": "376e8ac6-477e-41cd-d472-440292e1fd59"
   },
   "outputs": [
    {
     "name": "stdout",
     "output_type": "stream",
     "text": [
      "DecisionTreeRegressor Sklearn:\n",
      "Mean Absolute Error: 0.1996\n",
      "Mean Squared Error: 0.1196\n",
      "R-squared: -0.0570\n"
     ]
    }
   ],
   "source": [
    "reg = DecisionTreeRegressor(max_depth=7)\n",
    "reg.fit(X_train, y_train)\n",
    "preds = reg.predict(X_valid)\n",
    "\n",
    "print(f'DecisionTreeRegressor Sklearn:')\n",
    "print(f\"Mean Absolute Error: {mean_absolute_error(y_valid, preds):.4f}\")\n",
    "print(f\"Mean Squared Error: {mean_squared_error(y_valid, preds):.4f}\")\n",
    "print(f\"R-squared: {r2_score(y_valid, preds):.4f}\")"
   ]
  },
  {
   "cell_type": "markdown",
   "metadata": {
    "id": "dkl2ZPsf5NWe"
   },
   "source": [
    "---"
   ]
  },
  {
   "cell_type": "code",
   "execution_count": 23,
   "metadata": {
    "executionInfo": {
     "elapsed": 17,
     "status": "ok",
     "timestamp": 1747536979316,
     "user": {
      "displayName": "Magomed Radzhabov",
      "userId": "07943459021730227275"
     },
     "user_tz": -180
    },
    "id": "ebPWiSsx5NAr"
   },
   "outputs": [],
   "source": [
    "class RandomForestClassifierCustom:\n",
    "  def __init__(self, n_estimators=10, max_depth=5, max_features='sqrt', random_state=42):\n",
    "    self.n_estimators = n_estimators\n",
    "    self.max_depth = max_depth\n",
    "    self.max_features = max_features\n",
    "    self.trees = []\n",
    "    self.feature_indices = []\n",
    "    self.rng = np.random.default_rng(random_state) # local random number generator for reproducibility, avoids affecting global random state\n",
    "\n",
    "  def _sample_features(self, n_features):\n",
    "    if self.max_features == 'sqrt':\n",
    "      k = int(np.sqrt(n_features))\n",
    "    elif self.max_features == 'log2':\n",
    "      k = int(np.log2(n_features))\n",
    "    elif isinstance(self.max_features, int):\n",
    "      k = self.max_features\n",
    "    else:\n",
    "      k = n_features\n",
    "\n",
    "    return self.rng.choice(n_features, k, replace=False)\n",
    "\n",
    "  def fit(self, X, y):\n",
    "    if hasattr(X, 'values'):\n",
    "      X = X.values\n",
    "    if hasattr(y, 'values'):\n",
    "      y = y.values\n",
    "\n",
    "    n_samples, n_features = X.shape\n",
    "    self.n_classes = len(np.unique(y))\n",
    "    self.trees = []\n",
    "    self.feature_indices = []\n",
    "\n",
    "    for _ in range(self.n_estimators):\n",
    "      # Bootstrap sampling\n",
    "      indices = self.rng.choice(n_samples, size=n_samples, replace=True)\n",
    "      X_sample, y_sample = X[indices], y[indices]\n",
    "\n",
    "      # Feature subset\n",
    "      feature_idx = self._sample_features(n_features)\n",
    "      self.feature_indices.append(feature_idx)\n",
    "      X_sample_sub = X_sample[:, feature_idx]\n",
    "\n",
    "      tree = DecisionTreeClassifierCustom(max_depth=self.max_depth, criterion='gini', extra_random=True)\n",
    "      # tree = DecisionTreeClassifierCustom(max_depth=self.max_depth, criterion='gini')\n",
    "      tree.fit(X_sample_sub, y_sample)\n",
    "      self.trees.append(tree)\n",
    "\n",
    "  def predict_proba(self, X):\n",
    "    if hasattr(X, 'values'):\n",
    "      X = X.values\n",
    "\n",
    "    preds = np.zeros((X.shape[0], self.n_classes))\n",
    "    for tree, feat_idx in zip(self.trees, self.feature_indices):\n",
    "      preds += tree.predict_proba(X[:, feat_idx])\n",
    "    return preds / self.n_estimators\n",
    "\n",
    "  def predict(self, X):\n",
    "      return np.argmax(self.predict_proba(X), axis=1)"
   ]
  },
  {
   "cell_type": "code",
   "execution_count": 26,
   "metadata": {
    "colab": {
     "base_uri": "https://localhost:8080/"
    },
    "executionInfo": {
     "elapsed": 29475,
     "status": "ok",
     "timestamp": 1747537065857,
     "user": {
      "displayName": "Magomed Radzhabov",
      "userId": "07943459021730227275"
     },
     "user_tz": -180
    },
    "id": "vOgKvYXVCx1o",
    "outputId": "628fdbc3-1517-416d-c3cc-aa668130152c"
   },
   "outputs": [
    {
     "name": "stdout",
     "output_type": "stream",
     "text": [
      "RandomForestClassifier Custom Gini Score : 0.3153   |   Time: 29.438709020614624:2.f\n"
     ]
    }
   ],
   "source": [
    "start = time.time()\n",
    "\n",
    "rf = RandomForestClassifierCustom(n_estimators=50, max_depth=3, max_features='sqrt', random_state=42)\n",
    "rf.fit(X_train, y_train)\n",
    "preds = rf.predict_proba(X_valid)[:, 1]\n",
    "\n",
    "print(f\"RandomForestClassifier Custom Gini Score : {gini_score(y_valid, preds):.4f}   |   Time: {time.time() - start}:2.f\")"
   ]
  },
  {
   "cell_type": "code",
   "execution_count": 27,
   "metadata": {
    "colab": {
     "base_uri": "https://localhost:8080/"
    },
    "executionInfo": {
     "elapsed": 17552,
     "status": "ok",
     "timestamp": 1747537083406,
     "user": {
      "displayName": "Magomed Radzhabov",
      "userId": "07943459021730227275"
     },
     "user_tz": -180
    },
    "id": "lmVUw9zuKqYl",
    "outputId": "21867803-d679-429e-b615-2aff53a83d66"
   },
   "outputs": [
    {
     "name": "stdout",
     "output_type": "stream",
     "text": [
      "RandomForestClassifier Custom Gini Score : 0.3231   |   Time: 17.5566303730011:2.f\n"
     ]
    }
   ],
   "source": [
    "start = time.time()\n",
    "\n",
    "rf = RandomForestClassifierCustom(n_estimators=25, max_depth=5, max_features='sqrt', random_state=42)\n",
    "rf.fit(X_train, y_train)\n",
    "preds = rf.predict_proba(X_valid)[:, 1]\n",
    "\n",
    "print(f\"RandomForestClassifier Custom Gini Score : {gini_score(y_valid, preds):.4f}   |   Time: {time.time() - start}:2.f\")"
   ]
  },
  {
   "cell_type": "markdown",
   "metadata": {
    "id": "8A2pHT6Rw2wi"
   },
   "source": [
    "---"
   ]
  },
  {
   "cell_type": "code",
   "execution_count": 31,
   "metadata": {
    "executionInfo": {
     "elapsed": 18,
     "status": "ok",
     "timestamp": 1747537369068,
     "user": {
      "displayName": "Magomed Radzhabov",
      "userId": "07943459021730227275"
     },
     "user_tz": -180
    },
    "id": "m5rFIxtIBo7u"
   },
   "outputs": [],
   "source": [
    "class GBDTClassifierCustom:\n",
    "    def __init__(self, n_estimators=25, learning_rate=0.1, max_depth=5, max_features='sqrt', random_state=42):\n",
    "      self.n_estimators = n_estimators\n",
    "      self.learning_rate = learning_rate\n",
    "      self.max_depth = max_depth\n",
    "      self.max_features = max_features\n",
    "      self.rng = np.random.default_rng(random_state)\n",
    "      self.trees = []\n",
    "      self.feature_indices = []\n",
    "\n",
    "    def _sigmoid(self, x):\n",
    "      return 1 / (1 + np.exp(-x))\n",
    "\n",
    "    def _gradient(self, y_true, raw_pred):\n",
    "      return self._sigmoid(raw_pred) - y_true\n",
    "\n",
    "    def _sample_features(self, n_features):\n",
    "      if self.max_features == 'sqrt':\n",
    "        k = int(np.sqrt(n_features))\n",
    "      elif self.max_features == 'log2':\n",
    "        k = int(np.log2(n_features))\n",
    "      elif isinstance(self.max_features, int):\n",
    "        k = self.max_features\n",
    "      else:\n",
    "        k = n_features\n",
    "      return self.rng.choice(n_features, k, replace=False)\n",
    "\n",
    "    def fit(self, X, y):\n",
    "      if hasattr(X, 'values'):\n",
    "        X = X.values\n",
    "      if hasattr(y, 'values'):\n",
    "        y = y.values\n",
    "      y = y.astype(int)\n",
    "\n",
    "      self.trees = []\n",
    "      self.feature_indices = []\n",
    "      n_samples, n_features = X.shape\n",
    "      raw_preds = np.zeros(n_samples)\n",
    "\n",
    "      for _ in range(self.n_estimators):\n",
    "        grad = self._gradient(y, raw_preds)\n",
    "\n",
    "        feature_idx = self._sample_features(n_features)\n",
    "        self.feature_indices.append(feature_idx)\n",
    "\n",
    "        X_sub = X[:, feature_idx]\n",
    "        tree = DecisionTreeRegressorCustom(max_depth=self.max_depth, extra_random=True)\n",
    "        # tree = DecisionTreeRegressorCustom(max_depth=self.max_depth\n",
    "        tree.fit(X_sub, -grad)\n",
    "\n",
    "        raw_preds += self.learning_rate * tree.predict(X_sub)\n",
    "        self.trees.append(tree)\n",
    "\n",
    "    def predict_proba(self, X):\n",
    "        if hasattr(X, 'values'):\n",
    "            X = X.values\n",
    "\n",
    "        raw_preds = np.zeros(X.shape[0])\n",
    "\n",
    "        for tree, feat_idx in zip(self.trees, self.feature_indices):\n",
    "            X_sub = X[:, feat_idx]\n",
    "            raw_preds += self.learning_rate * tree.predict(X_sub)\n",
    "\n",
    "        return self._sigmoid(raw_preds)\n",
    "\n",
    "    def predict(self, X):\n",
    "        return (self.predict_proba(X) >= 0.5).astype(int)\n"
   ]
  },
  {
   "cell_type": "code",
   "execution_count": 54,
   "metadata": {
    "colab": {
     "base_uri": "https://localhost:8080/"
    },
    "executionInfo": {
     "elapsed": 14390,
     "status": "ok",
     "timestamp": 1747538143889,
     "user": {
      "displayName": "Magomed Radzhabov",
      "userId": "07943459021730227275"
     },
     "user_tz": -180
    },
    "id": "boTS1biKLyZa",
    "outputId": "b9352feb-41fe-40e7-d34b-e84f7308120f"
   },
   "outputs": [
    {
     "name": "stdout",
     "output_type": "stream",
     "text": [
      "GBDTClassifier Custom Gini Score: 0.2862     |   Time: 14.38s\n"
     ]
    }
   ],
   "source": [
    "start = time.time()\n",
    "\n",
    "gbdt = GBDTClassifierCustom(\n",
    "    n_estimators=10,\n",
    "    learning_rate=0.5,\n",
    "    max_depth=7,\n",
    "    random_state=42\n",
    ")\n",
    "\n",
    "gbdt.fit(X_train, y_train)\n",
    "y_pred_proba = gbdt.predict_proba(X_valid)\n",
    "\n",
    "print(f\"GBDTClassifier Custom Gini Score: {gini_score(y_valid, y_pred_proba):.4f}     |   Time: {time.time()-start:.2f}s\")"
   ]
  },
  {
   "cell_type": "code",
   "execution_count": 53,
   "metadata": {
    "colab": {
     "base_uri": "https://localhost:8080/"
    },
    "executionInfo": {
     "elapsed": 27498,
     "status": "ok",
     "timestamp": 1747538129510,
     "user": {
      "displayName": "Magomed Radzhabov",
      "userId": "07943459021730227275"
     },
     "user_tz": -180
    },
    "id": "Ofvj0vycxQg2",
    "outputId": "66da9523-b731-4a79-8eb7-0571725f2150"
   },
   "outputs": [
    {
     "name": "stdout",
     "output_type": "stream",
     "text": [
      "GBDTClassifier Custom Gini Score: 0.3313     |   Time: 27.44s\n"
     ]
    }
   ],
   "source": [
    "start = time.time()\n",
    "\n",
    "gbdt = GBDTClassifierCustom(\n",
    "    n_estimators=25,\n",
    "    learning_rate=0.25,\n",
    "    max_depth=5,\n",
    "    random_state=42\n",
    ")\n",
    "\n",
    "gbdt.fit(X_train, y_train)\n",
    "y_pred_proba = gbdt.predict_proba(X_valid)\n",
    "\n",
    "print(f\"GBDTClassifier Custom Gini Score: {gini_score(y_valid, y_pred_proba):.4f}     |   Time: {time.time()-start:.2f}s\")"
   ]
  },
  {
   "cell_type": "code",
   "execution_count": 55,
   "metadata": {
    "colab": {
     "base_uri": "https://localhost:8080/"
    },
    "executionInfo": {
     "elapsed": 39679,
     "status": "ok",
     "timestamp": 1747538216398,
     "user": {
      "displayName": "Magomed Radzhabov",
      "userId": "07943459021730227275"
     },
     "user_tz": -180
    },
    "id": "riK2nxldJjKd",
    "outputId": "f0a6d237-f488-461e-fa13-7d1af31abd14"
   },
   "outputs": [
    {
     "name": "stdout",
     "output_type": "stream",
     "text": [
      "GBDTClassifier Custom Gini Score: 0.3233     |   Time: 39.64s\n"
     ]
    }
   ],
   "source": [
    "start = time.time()\n",
    "\n",
    "gbdt = GBDTClassifierCustom(\n",
    "    n_estimators=50,\n",
    "    learning_rate=0.1,\n",
    "    max_depth=4,\n",
    "    random_state=42\n",
    ")\n",
    "\n",
    "gbdt.fit(X_train, y_train)\n",
    "y_pred_proba = gbdt.predict_proba(X_valid)\n",
    "\n",
    "print(f\"GBDTClassifier Custom Gini Score: {gini_score(y_valid, y_pred_proba):.4f}     |   Time: {time.time()-start:.2f}s\")"
   ]
  },
  {
   "cell_type": "markdown",
   "metadata": {
    "id": "JwNMU3KiFtv9"
   },
   "source": [
    "---"
   ]
  },
  {
   "cell_type": "code",
   "execution_count": 35,
   "metadata": {
    "colab": {
     "base_uri": "https://localhost:8080/"
    },
    "executionInfo": {
     "elapsed": 46681,
     "status": "ok",
     "timestamp": 1747537485343,
     "user": {
      "displayName": "Magomed Radzhabov",
      "userId": "07943459021730227275"
     },
     "user_tz": -180
    },
    "id": "ENdK_47jFujc",
    "outputId": "82dbc40e-e60e-4f8b-f45c-8b71ff59c16a"
   },
   "outputs": [
    {
     "name": "stdout",
     "output_type": "stream",
     "text": [
      "XGBoost Gini Score: 0.36813512037354035   |   Time: 46.15733361244202\n"
     ]
    }
   ],
   "source": [
    "dtrain = xgb.DMatrix(X_train.values, label=y_train.values)\n",
    "dvalid = xgb.DMatrix(X_valid.values, label=y_valid.values)\n",
    "\n",
    "params = {\n",
    "    'objective': 'binary:logistic',\n",
    "    'eval_metric': 'auc',\n",
    "    'learning_rate': 0.05,\n",
    "    'booster': 'dart',\n",
    "    'max_depth': 6,\n",
    "    'subsample': 0.8,\n",
    "    'colsample_bytree': 0.8,\n",
    "    'seed': 42\n",
    "}\n",
    "\n",
    "start = time.time()\n",
    "\n",
    "xgb_model = xgb.train(params, dtrain, num_boost_round=200)\n",
    "y_pred_xgb = xgb_model.predict(dvalid)\n",
    "print(f'XGBoost Gini Score: {gini_score(y_valid, y_pred_xgb)}   |   Time: {time.time()-start}')"
   ]
  },
  {
   "cell_type": "code",
   "execution_count": 36,
   "metadata": {
    "colab": {
     "base_uri": "https://localhost:8080/"
    },
    "executionInfo": {
     "elapsed": 254318,
     "status": "ok",
     "timestamp": 1747537739659,
     "user": {
      "displayName": "Magomed Radzhabov",
      "userId": "07943459021730227275"
     },
     "user_tz": -180
    },
    "id": "VpRNG56_TgXV",
    "outputId": "4139ce5f-f31f-43dc-a7ad-ce7e903e2f15"
   },
   "outputs": [
    {
     "name": "stdout",
     "output_type": "stream",
     "text": [
      "XGBoost Gini Score: 0.3589898328744803   |   Time: 254.14853525161743\n"
     ]
    }
   ],
   "source": [
    "dtrain = xgb.DMatrix(X_train.values, label=y_train.values)\n",
    "dvalid = xgb.DMatrix(X_valid.values, label=y_valid.values)\n",
    "\n",
    "params = {\n",
    "    'objective': 'binary:logistic',\n",
    "    'eval_metric': 'auc',\n",
    "    'learning_rate': 0.05,\n",
    "    'booster': 'dart',\n",
    "    'max_depth': 6,\n",
    "    'subsample': 0.8,\n",
    "    'colsample_bytree': 0.8,\n",
    "    'seed': 42\n",
    "}\n",
    "\n",
    "start = time.time()\n",
    "\n",
    "xgb_model = xgb.train(params, dtrain, num_boost_round=500)\n",
    "y_pred_xgb = xgb_model.predict(dvalid)\n",
    "print(f'XGBoost Gini Score: {gini_score(y_valid, y_pred_xgb)}   |   Time: {time.time()-start}')"
   ]
  },
  {
   "cell_type": "code",
   "execution_count": null,
   "metadata": {
    "colab": {
     "base_uri": "https://localhost:8080/"
    },
    "executionInfo": {
     "elapsed": 903772,
     "status": "ok",
     "timestamp": 1747407512153,
     "user": {
      "displayName": "Magomed Radzhabov",
      "userId": "07943459021730227275"
     },
     "user_tz": -180
    },
    "id": "7tXx4blBjKqn",
    "outputId": "23256864-d6bf-4b86-c77c-3fa6aa8161b0"
   },
   "outputs": [
    {
     "name": "stdout",
     "output_type": "stream",
     "text": [
      "XGBoost Gini Score: 0.32995260494770196   |   Time: 903.3257081508636\n"
     ]
    }
   ],
   "source": [
    "dtrain = xgb.DMatrix(X_train.values, label=y_train.values)\n",
    "dvalid = xgb.DMatrix(X_valid.values, label=y_valid.values)\n",
    "\n",
    "params = {\n",
    "    'objective': 'binary:logistic',\n",
    "    'eval_metric': 'auc',\n",
    "    'learning_rate': 0.05,\n",
    "    'booster': 'dart',\n",
    "    'max_depth': 6,\n",
    "    'subsample': 0.8,\n",
    "    'colsample_bytree': 0.8,\n",
    "    'seed': 42\n",
    "}\n",
    "\n",
    "start = time.time()\n",
    "\n",
    "xgb_model = xgb.train(params, dtrain, num_boost_round=1000)\n",
    "y_pred_xgb = xgb_model.predict(dvalid)\n",
    "print(f'XGBoost Gini Score: {gini_score(y_valid, y_pred_xgb)}   |   Time: {time.time()-start}')"
   ]
  },
  {
   "cell_type": "markdown",
   "metadata": {
    "id": "bHlg8h68M-8g"
   },
   "source": [
    "DART (Dropouts meet Multiple Additive Regression Trees) randomly drops trees during training for regularization"
   ]
  },
  {
   "cell_type": "code",
   "execution_count": 95,
   "metadata": {
    "colab": {
     "base_uri": "https://localhost:8080/"
    },
    "executionInfo": {
     "elapsed": 3252,
     "status": "ok",
     "timestamp": 1747538923824,
     "user": {
      "displayName": "Magomed Radzhabov",
      "userId": "07943459021730227275"
     },
     "user_tz": -180
    },
    "id": "JsZ5-2xAGPJi",
    "outputId": "9ad758d1-95a9-4eb3-ab6a-4f45037ec582"
   },
   "outputs": [
    {
     "name": "stdout",
     "output_type": "stream",
     "text": [
      "LightGBM Gini Score: 0.36357754538205134   |   Time: 3.1782729625701904:.2f\n"
     ]
    }
   ],
   "source": [
    "train_data = lgb.Dataset(X_train.values, label=y_train.values)\n",
    "valid_data = lgb.Dataset(X_valid.values, label=y_valid.values)\n",
    "\n",
    "params = {\n",
    "    'objective': 'binary',\n",
    "    'metric': 'auc',\n",
    "    'learning_rate': 0.05,\n",
    "    'max_depth': 6,\n",
    "    'num_leaves': 12,\n",
    "    'feature_fraction': 0.8,\n",
    "    'bagging_fraction': 0.8,\n",
    "    'bagging_freq': 5,\n",
    "    'seed': 42,\n",
    "    'verbose': -1\n",
    "}\n",
    "\n",
    "start = time.time()\n",
    "model_lgb = lgb.train(params, train_data, valid_sets=[valid_data], num_boost_round=300)\n",
    "y_pred_lgb = model_lgb.predict(X_valid.values)\n",
    "\n",
    "print(f'LightGBM Gini Score: {gini_score(y_valid, y_pred_lgb)}   |   Time: {time.time()-start}:.2f')"
   ]
  },
  {
   "cell_type": "code",
   "execution_count": 40,
   "metadata": {
    "colab": {
     "base_uri": "https://localhost:8080/"
    },
    "executionInfo": {
     "elapsed": 16358,
     "status": "ok",
     "timestamp": 1747537864271,
     "user": {
      "displayName": "Magomed Radzhabov",
      "userId": "07943459021730227275"
     },
     "user_tz": -180
    },
    "id": "oXKkn8TIGQjn",
    "outputId": "ee65f8dc-ae75-405c-9440-515e81641f09"
   },
   "outputs": [
    {
     "name": "stdout",
     "output_type": "stream",
     "text": [
      "0:\ttest: 0.6151700\tbest: 0.6151700 (0)\ttotal: 289ms\tremaining: 57.4s\n",
      "50:\ttest: 0.6689684\tbest: 0.6698658 (46)\ttotal: 7.51s\tremaining: 21.9s\n",
      "100:\ttest: 0.6660008\tbest: 0.6706475 (70)\ttotal: 11.9s\tremaining: 11.6s\n",
      "Stopped by overfitting detector  (50 iterations wait)\n",
      "\n",
      "bestTest = 0.670647502\n",
      "bestIteration = 70\n",
      "\n",
      "Shrink model to first 71 iterations.\n",
      "\n",
      "CatBoost Gini Score: 0.3412950039883671   |   Time: 16.144532680511475\n"
     ]
    }
   ],
   "source": [
    "cat_features = X_train.select_dtypes(include=['object']).columns.to_list()\n",
    "cat_features_idx = [X_train.columns.get_loc(col) for col in cat_features]\n",
    "\n",
    "X_train[cat_features] = X_train[cat_features].astype(str)\n",
    "X_valid[cat_features] = X_valid[cat_features].astype(str)\n",
    "\n",
    "model_cat = CatBoostClassifier(\n",
    "    iterations=200,\n",
    "    learning_rate=0.05,\n",
    "    depth=6,\n",
    "    loss_function='Logloss',\n",
    "    early_stopping_rounds=50,\n",
    "    eval_metric='AUC',\n",
    "    cat_features=cat_features_idx,\n",
    "    verbose=50,\n",
    "    random_seed=42\n",
    ")\n",
    "\n",
    "start = time.time()\n",
    "\n",
    "model_cat.fit(X_train, y_train, eval_set=(X_valid, y_valid))\n",
    "y_pred_cat = model_cat.predict_proba(X_valid)[:, 1]\n",
    "\n",
    "print(f'\\nCatBoost Gini Score: {gini_score(y_valid, y_pred_cat)}   |   Time: {time.time()-start}')"
   ]
  },
  {
   "cell_type": "markdown",
   "metadata": {
    "id": "HIjp7Ga5QbUL"
   },
   "source": [
    "LightGBM performed better than other GBM models. LightGBM usually is very fast on large datasets with numerical values. It uses histogram-based learning (faster and more memory-efficient). It uses leaf-wise tree growth (with depth limits), which often gives better accuracy. It also supports native categorical feature handling (with `categorical_feature` argument)."
   ]
  },
  {
   "cell_type": "markdown",
   "metadata": {
    "id": "d4ODQGyCRKmU"
   },
   "source": [
    "LightGBM\n",
    "- Uses histogram-based learning: buckets continuous features into discrete bins, reducing memory usage and speeding up computation.\n",
    "- Grows trees leaf-wise instead of level-wise.\n",
    "- Leads to deeper trees and better accuracy.\n",
    "- Supports native categorical feature handling (with categorical_feature argument).\n",
    "\n",
    "CatBoost:\n",
    "- Best handling of categorical features (no preprocessing needed).\n",
    "- Used a method called \"ordered boosting\" to encode categorical features without data leakage.\n",
    "- Internally converts categorical values to numbers based on statistics (e.g., average target value) using **permutation-driven encoding**\n",
    "\n",
    "XGBoost\n",
    "- Uses either exactly greedy or approximate histogram-based methods for split finding.\n",
    "- Has options like DART = Dropouts meet Multiple Additive Regression Trees.\n",
    "- Drops random trees during training (like dropout in neural nets).\n",
    "- Prevents overfitting and encourages ensemble diversity.\n",
    "\n"
   ]
  },
  {
   "cell_type": "markdown",
   "metadata": {
    "id": "fn66OnckVxW4"
   },
   "source": [
    "---"
   ]
  },
  {
   "cell_type": "code",
   "execution_count": 96,
   "metadata": {
    "colab": {
     "base_uri": "https://localhost:8080/"
    },
    "executionInfo": {
     "elapsed": 1172,
     "status": "ok",
     "timestamp": 1747538932678,
     "user": {
      "displayName": "Magomed Radzhabov",
      "userId": "07943459021730227275"
     },
     "user_tz": -180
    },
    "id": "ypfgV43TQr6v",
    "outputId": "39420750-adb7-493a-d7ba-4e1a9bd78a40"
   },
   "outputs": [
    {
     "name": "stdout",
     "output_type": "stream",
     "text": [
      "Train Gini: 0.6512\n",
      "Valid Gini: 0.3636\n",
      "Test Gini:  0.3702\n"
     ]
    }
   ],
   "source": [
    "y_pred_train = model_lgb.predict(X_train.values)\n",
    "y_pred_valid = model_lgb.predict(X_valid.values)\n",
    "y_pred_test = model_lgb.predict(X_test.values)\n",
    "\n",
    "print(f\"Train Gini: {gini_score(y_train, y_pred_train):.4f}\")\n",
    "print(f\"Valid Gini: {gini_score(y_valid, y_pred_valid):.4f}\")\n",
    "print(f\"Test Gini:  {gini_score(y_test, y_pred_test):.4f}\")"
   ]
  },
  {
   "cell_type": "markdown",
   "metadata": {
    "id": "JM2OM9uIWbaq"
   },
   "source": [
    "Model (LightGBM) performs significantly better on the training set than on validation or test datasets.\n",
    "\n",
    "This large gap between training and validation Gini scores indicates that the model is overfitting. It has likely memorized patterns in the training data that do not generalize well to unseen data.\n",
    "\n",
    "However, validation and test Gini scores are close to each other, which is a positive sign. It suggests that:\n",
    "\n",
    "- The validation set is representative of the test set.\n",
    "- The model's performance is consistent on unseen data.\n",
    "- The model is not overfitting to the validation set specifically.\n",
    "\n",
    "The models shows moderate overfitting: it performs well on the training data but worse on validation and test data, though the validation/test consistency suggests it still generalized reasonably well."
   ]
  },
  {
   "cell_type": "markdown",
   "metadata": {
    "id": "kK0Sp5Pj9HQG"
   },
   "source": [
    "---"
   ]
  },
  {
   "cell_type": "code",
   "execution_count": 97,
   "metadata": {
    "colab": {
     "base_uri": "https://localhost:8080/"
    },
    "executionInfo": {
     "elapsed": 6558,
     "status": "ok",
     "timestamp": 1747538941145,
     "user": {
      "displayName": "Magomed Radzhabov",
      "userId": "07943459021730227275"
     },
     "user_tz": -180
    },
    "id": "NB-GrKe39E7a",
    "outputId": "403c7ac4-b155-44eb-8aee-b29e3fbeba6e"
   },
   "outputs": [
    {
     "name": "stdout",
     "output_type": "stream",
     "text": [
      "Extra Tree Classifier Gini Score: 0.29622284031841706    |   Time: 6.546526908874512:.2f\n"
     ]
    }
   ],
   "source": [
    "start = time.time()\n",
    "\n",
    "extra_tree_clf = DecisionTreeClassifierCustom(\n",
    "    max_depth=5,\n",
    "    criterion='gini',\n",
    "    extra_random=True,\n",
    ")\n",
    "\n",
    "extra_tree_clf.fit(X_train, y_train)\n",
    "y_pred = extra_tree_clf.predict_proba(X_valid)[:, 1]\n",
    "\n",
    "print(f\"Extra Tree Classifier Gini Score: {gini_score(y_valid, y_pred)}    |   Time: {time.time() - start}:.2f\")"
   ]
  }
 ],
 "metadata": {
  "accelerator": "GPU",
  "colab": {
   "authorship_tag": "ABX9TyN7yo9Uphi7nlm9jhNdH7Ge",
   "gpuType": "T4",
   "mount_file_id": "104HOCgIwI0geO8lpekuThN5OlbPlDOts",
   "provenance": []
  },
  "kernelspec": {
   "display_name": "Python 3",
   "name": "python3"
  },
  "language_info": {
   "name": "python"
  }
 },
 "nbformat": 4,
 "nbformat_minor": 0
}
